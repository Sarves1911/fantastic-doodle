{
 "cells": [
  {
   "cell_type": "code",
   "execution_count": 1,
   "id": "e9963772",
   "metadata": {},
   "outputs": [],
   "source": [
    "import re\n",
    "import os"
   ]
  },
  {
   "cell_type": "code",
   "execution_count": 2,
   "id": "62d6766d",
   "metadata": {},
   "outputs": [],
   "source": [
    "def clean_text(text):\n",
    "    # Convert to uniform spacing\n",
    "    text = re.sub(r'\\r\\n|\\r', '\\n', text)               # Normalize newlines\n",
    "    text = re.sub(r'\\n{2,}', '\\n\\n', text)              # Collapse extra line breaks\n",
    "    text = re.sub(r'\\s+', ' ', text)                    # Replace multiple spaces\n",
    "\n",
    "    # Remove common boilerplate/navigation patterns\n",
    "    boilerplate_patterns = [\n",
    "        r\"Page \\d+ of \\d+\",                              # Page numbers\n",
    "        r\"Back to Top\",\n",
    "        r\"Home(.*?)Sitemap\",                             # Menu text\n",
    "        r\"©.*?All rights reserved\",\n",
    "        r\"Download PDF\",\n",
    "        r\"\\bDisclaimer\\b\",\n",
    "        r\"Table of Contents\",\n",
    "        r\"Contents\",                                     # Generic headers\n",
    "    ]\n",
    "    for pattern in boilerplate_patterns:\n",
    "        text = re.sub(pattern, \"\", text, flags=re.IGNORECASE)\n",
    "\n",
    "    # Remove lines with only numbers (e.g., page headers)\n",
    "    text = re.sub(r'\\n\\d+\\n', '\\n', text)\n",
    "\n",
    "    # Remove URLs\n",
    "    text = re.sub(r'https?://\\S+', '', text)\n",
    "\n",
    "    # Strip remaining HTML tags if any\n",
    "    text = re.sub(r'<[^>]+>', '', text)\n",
    "\n",
    "    # Final strip\n",
    "    text = text.strip()\n",
    "\n",
    "    return text\n"
   ]
  },
  {
   "cell_type": "code",
   "execution_count": 3,
   "id": "99f15c0d",
   "metadata": {},
   "outputs": [],
   "source": [
    "def clean_file(input_file, output_file):\n",
    "    if not os.path.exists(input_file):\n",
    "        print(f\"[❌ ERROR] Input file not found: {input_file}\")\n",
    "        return\n",
    "\n",
    "    try:\n",
    "        with open(input_file, \"r\", encoding=\"utf-8\", errors=\"ignore\") as f:\n",
    "            raw_text = f.read()\n",
    "    except Exception as e:\n",
    "        print(f\"[❌ ERROR] Failed to read input file: {e}\")\n",
    "        return\n",
    "\n",
    "    cleaned_text = clean_text(raw_text)\n",
    "\n",
    "    try:\n",
    "        with open(output_file, \"w\", encoding=\"utf-8\") as f:\n",
    "            f.write(cleaned_text)\n",
    "        print(f\"[✅ DONE] Cleaned text saved to: {output_file}\")\n",
    "    except Exception as e:\n",
    "        print(f\"[❌ ERROR] Failed to write output file: {e}\")\n",
    "\n"
   ]
  },
  {
   "cell_type": "code",
   "execution_count": 5,
   "id": "305fd589",
   "metadata": {},
   "outputs": [
    {
     "name": "stdout",
     "output_type": "stream",
     "text": [
      "[✅ DONE] Cleaned text saved to: indian_tax_code_cleaned.txt\n"
     ]
    }
   ],
   "source": [
    "if __name__ == \"__main__\":\n",
    "    INPUT_FILE = r\"E:\\Income Tax Fine-tuning\\indian_tax_code_final_corpus.txt\"\n",
    "    OUTPUT_FILE = \"indian_tax_code_cleaned.txt\"\n",
    "    clean_file(INPUT_FILE, OUTPUT_FILE)"
   ]
  },
  {
   "cell_type": "code",
   "execution_count": null,
   "id": "cf53afd3",
   "metadata": {},
   "outputs": [],
   "source": []
  },
  {
   "cell_type": "code",
   "execution_count": null,
   "id": "da75cfbd",
   "metadata": {},
   "outputs": [],
   "source": []
  },
  {
   "cell_type": "code",
   "execution_count": null,
   "id": "e5d05a9e",
   "metadata": {},
   "outputs": [],
   "source": []
  },
  {
   "cell_type": "code",
   "execution_count": null,
   "id": "b90cb563",
   "metadata": {},
   "outputs": [],
   "source": []
  },
  {
   "cell_type": "code",
   "execution_count": null,
   "id": "c0449e2b",
   "metadata": {},
   "outputs": [],
   "source": []
  }
 ],
 "metadata": {
  "kernelspec": {
   "display_name": "myenv",
   "language": "python",
   "name": "python3"
  },
  "language_info": {
   "codemirror_mode": {
    "name": "ipython",
    "version": 3
   },
   "file_extension": ".py",
   "mimetype": "text/x-python",
   "name": "python",
   "nbconvert_exporter": "python",
   "pygments_lexer": "ipython3",
   "version": "3.9.23"
  }
 },
 "nbformat": 4,
 "nbformat_minor": 5
}
