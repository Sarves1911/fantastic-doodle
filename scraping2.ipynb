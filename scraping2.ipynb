{
 "cells": [
  {
   "cell_type": "code",
   "execution_count": null,
   "id": "37de707a",
   "metadata": {},
   "outputs": [
    {
     "name": "stdout",
     "output_type": "stream",
     "text": [
      "[INFO] Extracting text from PDF...\n"
     ]
    }
   ],
   "source": [
    "import pdfplumber\n",
    "\n",
    "def extract_text_from_pdf(pdf_path):\n",
    "    text = \"\"\n",
    "    with pdfplumber.open(pdf_path) as pdf:\n",
    "        for page in pdf.pages:\n",
    "            page_text = page.extract_text()\n",
    "            if page_text:\n",
    "                text += page_text + \"\\n\"\n",
    "    return text.strip()\n",
    "\n",
    "def combine_with_pdf(scraped_file1, scraped_file2, pdf_path, output_file):\n",
    "    # Read existing scraped text\n",
    "    with open(scraped_file1, \"r\", encoding=\"utf-8\") as f1, \\\n",
    "         open(scraped_file2, \"r\", encoding=\"utf-8\") as f2:\n",
    "        text1 = f1.read().strip()\n",
    "        text2 = f2.read().strip()\n",
    "    \n",
    "    # Extract text from PDF\n",
    "    print(\"[INFO] Extracting text from PDF...\")\n",
    "    pdf_text = extract_text_from_pdf(pdf_path)\n",
    "    print(f\"[INFO] Extracted {len(pdf_text)} characters from PDF.\")\n",
    "\n",
    "    # Combine all texts\n",
    "    combined_text = (\n",
    "        text1 +\n",
    "        \"\\n\\n\" +\n",
    "        text2 +\n",
    "        \"\\n\\n[SOURCE: indian_tax_code_full.pdf]\\n\" +\n",
    "        pdf_text\n",
    "    )\n",
    "\n",
    "    # Write combined output\n",
    "    with open(output_file, \"w\", encoding=\"utf-8\") as out:\n",
    "        out.write(combined_text)\n",
    "\n",
    "    print(f\"[✅ DONE] Final combined file saved at: {output_file}\")\n",
    "\n",
    "# === Example usage ===\n",
    "combine_with_pdf(\n",
    "    \"indian_tax_code_combined.txt\",\n",
    "    \"indian_tax_code_special_sources.txt\",\n",
    "    \"indian tax code pdf.pdf\",\n",
    "    \"indian_tax_code_final_corpus.txt\"\n",
    ")\n"
   ]
  },
  {
   "cell_type": "code",
   "execution_count": null,
   "id": "28e05f3c",
   "metadata": {},
   "outputs": [],
   "source": []
  }
 ],
 "metadata": {
  "kernelspec": {
   "display_name": "myenv",
   "language": "python",
   "name": "python3"
  },
  "language_info": {
   "codemirror_mode": {
    "name": "ipython",
    "version": 3
   },
   "file_extension": ".py",
   "mimetype": "text/x-python",
   "name": "python",
   "nbconvert_exporter": "python",
   "pygments_lexer": "ipython3",
   "version": "3.9.23"
  }
 },
 "nbformat": 4,
 "nbformat_minor": 5
}
